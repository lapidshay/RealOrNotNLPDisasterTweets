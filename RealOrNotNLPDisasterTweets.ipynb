{
 "cells": [
  {
   "cell_type": "markdown",
   "metadata": {},
   "source": [
    "This notebook shows a basic pipeline for the NLP task of text classification.<br>\n",
    "Specifically it tries to classify wheter a tweet describes a real or fake disaster.\n",
    "\n",
    "The pipeline is composed of:\n",
    "* Cleaning and pre-preocessing\n",
    "* Feature engineering\n",
    "* Pre-trained word-embedding model\n",
    "* BiLSTM RNN model"
   ]
  },
  {
   "cell_type": "markdown",
   "metadata": {},
   "source": [
    "# Imports"
   ]
  },
  {
   "cell_type": "code",
   "execution_count": 1,
   "metadata": {},
   "outputs": [],
   "source": [
    "import numpy as np\n",
    "import pandas as pd\n",
    "import re\n",
    "import matplotlib.pyplot as plt\n",
    "from collections import Counter\n",
    "import seaborn as sns\n",
    "\n",
    "from copy import deepcopy\n",
    "import gc\n",
    "\n",
    "import nltk\n",
    "from nltk.tokenize import TweetTokenizer  # Twitter-aware tokenizer\n",
    "from nltk.sentiment.vader import SentimentIntensityAnalyzer\n",
    "from nltk.corpus import stopwords\n",
    "\n",
    "import torch\n",
    "import torch.nn as nn\n",
    "\n",
    "from gensim.models.word2vec import Word2Vec\n",
    "import gensim.downloader as api\n",
    "\n",
    "from sklearn.model_selection import train_test_split\n",
    "from sklearn.preprocessing import MinMaxScaler\n",
    "\n",
    "%matplotlib inline"
   ]
  },
  {
   "cell_type": "markdown",
   "metadata": {},
   "source": [
    "# Cleaning and pre-processing functions"
   ]
  },
  {
   "cell_type": "markdown",
   "metadata": {},
   "source": [
    "#### Text cleaning"
   ]
  },
  {
   "cell_type": "code",
   "execution_count": 2,
   "metadata": {},
   "outputs": [],
   "source": [
    "def _normalize_tweet(text):\n",
    "    \"\"\"Returns a normalized versions of text.\"\"\"\n",
    "\n",
    "    # change hyperlinks to '<url>' tokens\n",
    "    output = re.sub(r'http[s]{0,1}://t.co/[a-zA-Z0-9]+\\b', '<url>', text)\n",
    "    \n",
    "    # separate all '#' signs from following word with one whitespace\n",
    "    output = re.sub(r'#(\\w+)', r'# \\1', output)\n",
    "\n",
    "    return output"
   ]
  },
  {
   "cell_type": "code",
   "execution_count": 3,
   "metadata": {},
   "outputs": [],
   "source": [
    "def _tokenize(tokenizer, string):\n",
    "    \"\"\"Tokenizes a sentence, but leave hastags (#) and users (@)\"\"\"\n",
    "    \n",
    "    tokenized = tokenizer.tokenize(string)\n",
    "    return tokenized"
   ]
  },
  {
   "cell_type": "code",
   "execution_count": 4,
   "metadata": {},
   "outputs": [],
   "source": [
    "def _numbers_to_number_tokens(tokenized_string, num_token='<number>'):\n",
    "    \"\"\"Returns the tokenized string (list) with numbers replaced by a numbet token.\"\"\"\n",
    "    \n",
    "    # create a list of (word, POS-tags) tuples\n",
    "    pos_tagged = nltk.pos_tag(tokenized_string)\n",
    "    \n",
    "    # find indices of number POS tags\n",
    "    num_indices = [idx for idx in range(len(pos_tagged)) if pos_tagged[idx][1] == 'CD']\n",
    "    \n",
    "    # replace numbers by token\n",
    "    for idx in num_indices:\n",
    "        tokenized_string[idx] = num_token\n",
    "        \n",
    "    return tokenized_string    "
   ]
  },
  {
   "cell_type": "code",
   "execution_count": 5,
   "metadata": {},
   "outputs": [],
   "source": [
    "def preprocess_text(tokenizer, string):\n",
    "    \"\"\"Executes all text cleaning functions.\"\"\"\n",
    "    \n",
    "    return _numbers_to_number_tokens(_tokenize(tokenizer, _normalize_tweet(string)))"
   ]
  },
  {
   "cell_type": "markdown",
   "metadata": {},
   "source": [
    "#### Keyword cleaning"
   ]
  },
  {
   "cell_type": "code",
   "execution_count": 6,
   "metadata": {},
   "outputs": [],
   "source": [
    "def preprocess_keyword(keyword):\n",
    "    \"\"\"Returns a clean, tokenized keyword.\"\"\"\n",
    "    \n",
    "    # return None if keywors is np.nan\n",
    "    if type(keyword) == np.float and np.isnan(keyword):\n",
    "        return\n",
    "    \n",
    "    # replace '%20' with whitespace, lower, and tokenize\n",
    "    output = re.sub(r'%20', ' ', keyword)\n",
    "    output = output.lower()\n",
    "    output = output.split()\n",
    "    return output"
   ]
  },
  {
   "cell_type": "markdown",
   "metadata": {},
   "source": [
    "# Feature engineering functions"
   ]
  },
  {
   "cell_type": "code",
   "execution_count": 7,
   "metadata": {},
   "outputs": [],
   "source": [
    "def count_all_caps(text):\n",
    "    \"\"\"Returns an integer denoting number of ALL-CAPS words (e.g. 'CANADA', 'WELCOME').\"\"\"\n",
    "\n",
    "    return len([word for word in text.split() if word.isupper()])"
   ]
  },
  {
   "cell_type": "code",
   "execution_count": 8,
   "metadata": {},
   "outputs": [],
   "source": [
    "def count_capitalized(text):\n",
    "    \"\"\"Returns an integer denoting number of capitalized words (e.g. 'Beer', 'Obama').\"\"\"\n",
    "\n",
    "    return len([word for word in text.split() if word.istitle()])"
   ]
  },
  {
   "cell_type": "code",
   "execution_count": 9,
   "metadata": {},
   "outputs": [],
   "source": [
    "def count_words(text):\n",
    "    \"\"\"Returns an integer denoting number of words in tweet (before normalizing).\"\"\"\n",
    "\n",
    "    return len(text.split())"
   ]
  },
  {
   "cell_type": "code",
   "execution_count": 10,
   "metadata": {},
   "outputs": [],
   "source": [
    "def sentiment_analyze_df(df, column):\n",
    "    \"\"\"Adds 4 columns of sentiment analysis scores to input DataFrame. changes occur inplace.\"\"\"\n",
    "\n",
    "    # instantiate a sentiment anlayzer\n",
    "    sid = SentimentIntensityAnalyzer()\n",
    "    \n",
    "    # instantiate a matrix and populate it with scores of each of df[column]\n",
    "    output_values = np.zeros((len(df), 4))\n",
    "    for tup in df.itertuples():\n",
    "        output_values[tup.Index, :] = list(sid.polarity_scores(' '.join(getattr(tup, column))).values())\n",
    "    \n",
    "    # adding column to input DataFrame\n",
    "    for idx, col in enumerate(['sent_neg', 'sent_neu', 'sent_pos', 'sent_compound']):\n",
    "        df[col] = output_values[:, idx]"
   ]
  },
  {
   "cell_type": "markdown",
   "metadata": {},
   "source": [
    "# Word embedding functions"
   ]
  },
  {
   "cell_type": "markdown",
   "metadata": {},
   "source": [
    "#### Text embedding"
   ]
  },
  {
   "cell_type": "code",
   "execution_count": 11,
   "metadata": {},
   "outputs": [],
   "source": [
    "def _get_word_vec(embedding_model, use_norm, word):\n",
    "    \"\"\"\n",
    "    Returns a normalized embedding vector of input word.\n",
    "    \n",
    "    Takes care of special cases.\n",
    "    <url> tokens are already taken care of in normalization.\n",
    "    \"\"\"\n",
    "\n",
    "    if word[0] == '@':\n",
    "        return embedding_model.word_vec('<user>', use_norm=use_norm)\n",
    "        \n",
    "    elif word == '#':\n",
    "        return embedding_model.word_vec('<hashtag>', use_norm=use_norm)\n",
    "\n",
    "    elif word in embedding_model.vocab:\n",
    "        return embedding_model.word_vec(word, use_norm=use_norm)\n",
    "\n",
    "    else:\n",
    "        return embedding_model.word_vec('<UNK>', use_norm=use_norm)"
   ]
  },
  {
   "cell_type": "code",
   "execution_count": 12,
   "metadata": {},
   "outputs": [],
   "source": [
    "def _text_to_vectors(embedding_model, use_norm, tokenized_text):\n",
    "    \"\"\"Returns tweet's words' embedding vector.s\"\"\"\n",
    "\n",
    "    vectors = [_get_word_vec(embedding_model, use_norm, word) for word in tokenized_text]\n",
    "    vectors = np.array(vectors)\n",
    "    \n",
    "    return vectors"
   ]
  },
  {
   "cell_type": "code",
   "execution_count": 13,
   "metadata": {},
   "outputs": [],
   "source": [
    "def _trim_and_pad_vectors(text_vectors, embedding_dimension, seq_len):\n",
    "    \"\"\"Returns a padded matrix of text embedding vectors with dimensions (seq_len, embedding dimensions).\"\"\"\n",
    "\n",
    "    # instantiate 0's matrix\n",
    "    output = np.zeros((seq_len, embedding_dimension))\n",
    "\n",
    "    # trim long tweets to be seq_len long\n",
    "    trimmed_vectors = text_vectors[:seq_len]\n",
    "\n",
    "    # determine index of end of padding and beginning of tweet embedding\n",
    "    end_of_padding_index = seq_len - trimmed_vectors.shape[0]\n",
    "\n",
    "    # pad if needed, by replacing last rows with the tweet's words' embedding vectors\n",
    "    output[end_of_padding_index:] = trimmed_vectors\n",
    "\n",
    "    return output"
   ]
  },
  {
   "cell_type": "code",
   "execution_count": 14,
   "metadata": {},
   "outputs": [],
   "source": [
    "def embedding_preprocess(embedding_model, use_norm, seq_len, tokenized_text):\n",
    "    \"\"\"Returns an embedding representation of input tokenized text, by executing text embedding functions.\"\"\"\n",
    "    \n",
    "    # get matrix of tweet's words' embedding vectors (tweet length, embedding_dimension)\n",
    "    text_vectors = _text_to_vectors(embedding_model, use_norm, tokenized_text)\n",
    "    \n",
    "    output = _trim_and_pad_vectors(text_vectors, embedding_model.vector_size, seq_len)\n",
    "    \n",
    "    return output"
   ]
  },
  {
   "cell_type": "markdown",
   "metadata": {},
   "source": [
    "#### Keyword embedding"
   ]
  },
  {
   "cell_type": "code",
   "execution_count": 15,
   "metadata": {},
   "outputs": [],
   "source": [
    "def keyword_to_avg_vector(embedding_model, use_norm, tokenized_keyword):\n",
    "    \"\"\"Returns keyword(s') average embedding vector.\"\"\"\n",
    "    \n",
    "    # return a vector of zeros if tokenized_keyword is None\n",
    "    if tokenized_keyword is None:\n",
    "        return np.zeros((1, embedding_model.vector_size))\n",
    "    \n",
    "    # otherwise, calculate average embedding vector\n",
    "    vectors = [_get_word_vec(embedding_model, use_norm, word) for word in tokenized_keyword]\n",
    "    vectors = np.array(vectors)\n",
    "    avg_vector = np.mean(vectors, axis=0)\n",
    "    avg_vector = avg_vector.reshape((1, embedding_model.vector_size))\n",
    "    return avg_vector"
   ]
  },
  {
   "cell_type": "markdown",
   "metadata": {},
   "source": [
    "# Embedding model preparation"
   ]
  },
  {
   "cell_type": "code",
   "execution_count": 16,
   "metadata": {},
   "outputs": [],
   "source": [
    "# load a pre-trained model, which was trained on twitter\n",
    "model_glove_twitter = api.load(\"glove-twitter-100\")"
   ]
  },
  {
   "cell_type": "code",
   "execution_count": 17,
   "metadata": {},
   "outputs": [
    {
     "data": {
      "text/plain": [
       "array([[-0.28576016, -0.41864532, -0.8572179 , -0.07615124, -0.01906447,\n",
       "         0.5000973 , -0.15887319, -0.3596618 , -0.44722417, -0.70458776,\n",
       "         0.73015004,  0.05821599, -0.23607884, -0.18747637, -0.4541461 ,\n",
       "         0.9112709 , -0.82176924, -0.41803637,  0.48593888, -0.81265324,\n",
       "         0.5378028 , -0.8198196 , -0.9078774 ,  0.7692098 ,  0.12528239,\n",
       "         0.1299107 , -0.16800979,  0.3341448 , -0.6440562 ,  0.05042027,\n",
       "        -0.7272799 ,  0.0284716 , -0.57182777,  0.2243131 , -0.4119883 ,\n",
       "         0.5968199 , -0.7718093 ,  0.6765512 ,  0.7879301 , -0.37710363,\n",
       "        -0.7303882 , -0.37137026,  0.5668098 , -0.9827039 , -0.70348996,\n",
       "        -0.12073211,  0.6882181 , -0.01113986, -0.5766474 ,  0.2807778 ,\n",
       "         0.32177916, -0.7448273 , -0.58350426, -0.9508358 , -0.4289282 ,\n",
       "         0.972692  , -0.17104867,  0.51400745,  0.6396802 ,  0.6916307 ,\n",
       "         0.8134772 , -0.6947541 ,  0.8841656 , -0.5825879 ,  0.6819101 ,\n",
       "         0.87084514,  0.7757009 , -0.8770419 ,  0.0990604 ,  0.72276384,\n",
       "         0.7287787 , -0.4090214 ,  0.62506366,  0.958429  ,  0.74909365,\n",
       "         0.5496853 , -0.8797505 ,  0.01780067, -0.02439578, -0.42747656,\n",
       "        -0.9548179 , -0.10129255,  0.874976  , -0.71803105,  0.5742259 ,\n",
       "        -0.3056476 , -0.37024063, -0.47223473,  0.70534796,  0.14960876,\n",
       "        -0.8882983 , -0.74676967,  0.13849679, -0.23113474, -0.02159368,\n",
       "        -0.8781169 ,  0.03889635, -0.6215517 ,  0.69515   , -0.5763209 ]],\n",
       "      dtype=float32)"
      ]
     },
     "execution_count": 17,
     "metadata": {},
     "output_type": "execute_result"
    }
   ],
   "source": [
    "# create a random vector, to represent <UNK> token (unseen word)\n",
    "random_vec_for_unk = np.random.uniform(-1, 1, size=model_glove_twitter.vector_size).astype('float32')\n",
    "random_vec_for_unk = random_vec_for_unk.reshape(1,model_glove_twitter.vector_size)\n",
    "random_vec_for_unk"
   ]
  },
  {
   "cell_type": "code",
   "execution_count": 18,
   "metadata": {},
   "outputs": [
    {
     "data": {
      "text/plain": [
       "[('essencial', 0.4293496310710907),\n",
       " ('faça-nos', 0.4135913550853729),\n",
       " ('جوابه', 0.3919649124145508),\n",
       " ('åpent', 0.3814193606376648),\n",
       " ('أصدقائك', 0.37760499119758606),\n",
       " ('واختلفنا', 0.3730763792991638),\n",
       " ('يدقق', 0.36674734950065613),\n",
       " ('تضاعفت', 0.3653828501701355),\n",
       " ('貸金業者', 0.3620840907096863),\n",
       " ('勝つのは氷帝', 0.3615989685058594)]"
      ]
     },
     "execution_count": 18,
     "metadata": {},
     "output_type": "execute_result"
    }
   ],
   "source": [
    "model_glove_twitter.most_similar(random_vec_for_unk)"
   ]
  },
  {
   "cell_type": "code",
   "execution_count": 19,
   "metadata": {},
   "outputs": [],
   "source": [
    "# add the random vector to model\n",
    "model_glove_twitter.add(['<UNK>'], random_vec_for_unk, replace=True)"
   ]
  },
  {
   "cell_type": "code",
   "execution_count": 20,
   "metadata": {},
   "outputs": [],
   "source": [
    "# compute noramlized vectors, and replace originals\n",
    "model_glove_twitter.init_sims(replace=True)"
   ]
  },
  {
   "cell_type": "markdown",
   "metadata": {},
   "source": [
    "# Pre-processing"
   ]
  },
  {
   "cell_type": "code",
   "execution_count": 21,
   "metadata": {},
   "outputs": [],
   "source": [
    "TRAIN_SET_PATH = 'Data\\\\train.csv'"
   ]
  },
  {
   "cell_type": "code",
   "execution_count": 22,
   "metadata": {},
   "outputs": [
    {
     "data": {
      "text/html": [
       "<div>\n",
       "<style scoped>\n",
       "    .dataframe tbody tr th:only-of-type {\n",
       "        vertical-align: middle;\n",
       "    }\n",
       "\n",
       "    .dataframe tbody tr th {\n",
       "        vertical-align: top;\n",
       "    }\n",
       "\n",
       "    .dataframe thead th {\n",
       "        text-align: right;\n",
       "    }\n",
       "</style>\n",
       "<table border=\"1\" class=\"dataframe\">\n",
       "  <thead>\n",
       "    <tr style=\"text-align: right;\">\n",
       "      <th></th>\n",
       "      <th>id</th>\n",
       "      <th>keyword</th>\n",
       "      <th>location</th>\n",
       "      <th>text</th>\n",
       "      <th>target</th>\n",
       "    </tr>\n",
       "  </thead>\n",
       "  <tbody>\n",
       "    <tr>\n",
       "      <th>0</th>\n",
       "      <td>1</td>\n",
       "      <td>NaN</td>\n",
       "      <td>NaN</td>\n",
       "      <td>Our Deeds are the Reason of this #earthquake M...</td>\n",
       "      <td>1</td>\n",
       "    </tr>\n",
       "    <tr>\n",
       "      <th>1</th>\n",
       "      <td>4</td>\n",
       "      <td>NaN</td>\n",
       "      <td>NaN</td>\n",
       "      <td>Forest fire near La Ronge Sask. Canada</td>\n",
       "      <td>1</td>\n",
       "    </tr>\n",
       "    <tr>\n",
       "      <th>2</th>\n",
       "      <td>5</td>\n",
       "      <td>NaN</td>\n",
       "      <td>NaN</td>\n",
       "      <td>All residents asked to 'shelter in place' are ...</td>\n",
       "      <td>1</td>\n",
       "    </tr>\n",
       "    <tr>\n",
       "      <th>3</th>\n",
       "      <td>6</td>\n",
       "      <td>NaN</td>\n",
       "      <td>NaN</td>\n",
       "      <td>13,000 people receive #wildfires evacuation or...</td>\n",
       "      <td>1</td>\n",
       "    </tr>\n",
       "    <tr>\n",
       "      <th>4</th>\n",
       "      <td>7</td>\n",
       "      <td>NaN</td>\n",
       "      <td>NaN</td>\n",
       "      <td>Just got sent this photo from Ruby #Alaska as ...</td>\n",
       "      <td>1</td>\n",
       "    </tr>\n",
       "  </tbody>\n",
       "</table>\n",
       "</div>"
      ],
      "text/plain": [
       "   id keyword location                                               text  \\\n",
       "0   1     NaN      NaN  Our Deeds are the Reason of this #earthquake M...   \n",
       "1   4     NaN      NaN             Forest fire near La Ronge Sask. Canada   \n",
       "2   5     NaN      NaN  All residents asked to 'shelter in place' are ...   \n",
       "3   6     NaN      NaN  13,000 people receive #wildfires evacuation or...   \n",
       "4   7     NaN      NaN  Just got sent this photo from Ruby #Alaska as ...   \n",
       "\n",
       "   target  \n",
       "0       1  \n",
       "1       1  \n",
       "2       1  \n",
       "3       1  \n",
       "4       1  "
      ]
     },
     "execution_count": 22,
     "metadata": {},
     "output_type": "execute_result"
    }
   ],
   "source": [
    "train_df = pd.read_csv(TRAIN_SET_PATH)\n",
    "train_df.head()"
   ]
  },
  {
   "cell_type": "markdown",
   "metadata": {},
   "source": [
    "#### Cleaning"
   ]
  },
  {
   "cell_type": "code",
   "execution_count": 23,
   "metadata": {},
   "outputs": [],
   "source": [
    "# create a tokenizer which lowercases, reduces length of and preserves user handles ('@user')\n",
    "tokenizer = TweetTokenizer(preserve_case=False, reduce_len=True, strip_handles=False) "
   ]
  },
  {
   "cell_type": "code",
   "execution_count": 24,
   "metadata": {},
   "outputs": [],
   "source": [
    "# normalize and tokenize texts\n",
    "train_df['tok_norm_text'] = [preprocess_text(tokenizer, text) for text in train_df['text']]"
   ]
  },
  {
   "cell_type": "code",
   "execution_count": 25,
   "metadata": {},
   "outputs": [],
   "source": [
    "train_df['keyword'] = train_df['keyword'].apply(preprocess_keyword)"
   ]
  },
  {
   "cell_type": "markdown",
   "metadata": {},
   "source": [
    "#### Feature engineering"
   ]
  },
  {
   "cell_type": "code",
   "execution_count": 26,
   "metadata": {},
   "outputs": [],
   "source": [
    "train_df['num_all_caps'] = train_df['text'].apply(count_all_caps)\n",
    "train_df['num_caps'] = train_df['text'].apply(count_capitalized)\n",
    "train_df['num_words'] = train_df['text'].apply(count_words)"
   ]
  },
  {
   "cell_type": "code",
   "execution_count": 27,
   "metadata": {},
   "outputs": [],
   "source": [
    "# create a scaler to make all features be in range [-1, 1], thus suitable for a newural network model\n",
    "scaler = MinMaxScaler(feature_range=(-1, 1))\n",
    "\n",
    "columns_to_scale = ['num_all_caps', 'num_caps', 'num_words']\n",
    "scaler.fit(train_df[columns_to_scale])\n",
    "train_df[columns_to_scale] = scaler.transform(train_df[columns_to_scale])"
   ]
  },
  {
   "cell_type": "code",
   "execution_count": 28,
   "metadata": {},
   "outputs": [],
   "source": [
    "# create sentiment analysis feautres\n",
    "sentiment_analyze_df(train_df, 'tok_norm_text')"
   ]
  },
  {
   "cell_type": "code",
   "execution_count": 29,
   "metadata": {},
   "outputs": [
    {
     "data": {
      "text/html": [
       "<div>\n",
       "<style scoped>\n",
       "    .dataframe tbody tr th:only-of-type {\n",
       "        vertical-align: middle;\n",
       "    }\n",
       "\n",
       "    .dataframe tbody tr th {\n",
       "        vertical-align: top;\n",
       "    }\n",
       "\n",
       "    .dataframe thead th {\n",
       "        text-align: right;\n",
       "    }\n",
       "</style>\n",
       "<table border=\"1\" class=\"dataframe\">\n",
       "  <thead>\n",
       "    <tr style=\"text-align: right;\">\n",
       "      <th></th>\n",
       "      <th>id</th>\n",
       "      <th>keyword</th>\n",
       "      <th>location</th>\n",
       "      <th>text</th>\n",
       "      <th>target</th>\n",
       "      <th>tok_norm_text</th>\n",
       "      <th>num_all_caps</th>\n",
       "      <th>num_caps</th>\n",
       "      <th>num_words</th>\n",
       "      <th>sent_neg</th>\n",
       "      <th>sent_neu</th>\n",
       "      <th>sent_pos</th>\n",
       "      <th>sent_compound</th>\n",
       "    </tr>\n",
       "  </thead>\n",
       "  <tbody>\n",
       "    <tr>\n",
       "      <th>0</th>\n",
       "      <td>1</td>\n",
       "      <td>None</td>\n",
       "      <td>NaN</td>\n",
       "      <td>Our Deeds are the Reason of this #earthquake M...</td>\n",
       "      <td>1</td>\n",
       "      <td>[our, deeds, are, the, reason, of, this, #, ea...</td>\n",
       "      <td>-0.92</td>\n",
       "      <td>-0.565217</td>\n",
       "      <td>-0.200000</td>\n",
       "      <td>0.000</td>\n",
       "      <td>0.851</td>\n",
       "      <td>0.149</td>\n",
       "      <td>0.2732</td>\n",
       "    </tr>\n",
       "    <tr>\n",
       "      <th>1</th>\n",
       "      <td>4</td>\n",
       "      <td>None</td>\n",
       "      <td>NaN</td>\n",
       "      <td>Forest fire near La Ronge Sask. Canada</td>\n",
       "      <td>1</td>\n",
       "      <td>[forest, fire, near, la, ronge, sask, ., canada]</td>\n",
       "      <td>-1.00</td>\n",
       "      <td>-0.565217</td>\n",
       "      <td>-0.600000</td>\n",
       "      <td>0.286</td>\n",
       "      <td>0.714</td>\n",
       "      <td>0.000</td>\n",
       "      <td>-0.3400</td>\n",
       "    </tr>\n",
       "    <tr>\n",
       "      <th>2</th>\n",
       "      <td>5</td>\n",
       "      <td>None</td>\n",
       "      <td>NaN</td>\n",
       "      <td>All residents asked to 'shelter in place' are ...</td>\n",
       "      <td>1</td>\n",
       "      <td>[all, residents, asked, to, ', shelter, in, pl...</td>\n",
       "      <td>-1.00</td>\n",
       "      <td>-0.826087</td>\n",
       "      <td>0.400000</td>\n",
       "      <td>0.095</td>\n",
       "      <td>0.905</td>\n",
       "      <td>0.000</td>\n",
       "      <td>-0.2960</td>\n",
       "    </tr>\n",
       "    <tr>\n",
       "      <th>3</th>\n",
       "      <td>6</td>\n",
       "      <td>None</td>\n",
       "      <td>NaN</td>\n",
       "      <td>13,000 people receive #wildfires evacuation or...</td>\n",
       "      <td>1</td>\n",
       "      <td>[&lt;number&gt;, people, receive, #, wildfires, evac...</td>\n",
       "      <td>-1.00</td>\n",
       "      <td>-0.913043</td>\n",
       "      <td>-0.533333</td>\n",
       "      <td>0.000</td>\n",
       "      <td>1.000</td>\n",
       "      <td>0.000</td>\n",
       "      <td>0.0000</td>\n",
       "    </tr>\n",
       "    <tr>\n",
       "      <th>4</th>\n",
       "      <td>7</td>\n",
       "      <td>None</td>\n",
       "      <td>NaN</td>\n",
       "      <td>Just got sent this photo from Ruby #Alaska as ...</td>\n",
       "      <td>1</td>\n",
       "      <td>[just, got, sent, this, photo, from, ruby, #, ...</td>\n",
       "      <td>-1.00</td>\n",
       "      <td>-0.739130</td>\n",
       "      <td>0.000000</td>\n",
       "      <td>0.000</td>\n",
       "      <td>1.000</td>\n",
       "      <td>0.000</td>\n",
       "      <td>0.0000</td>\n",
       "    </tr>\n",
       "  </tbody>\n",
       "</table>\n",
       "</div>"
      ],
      "text/plain": [
       "   id keyword location                                               text  \\\n",
       "0   1    None      NaN  Our Deeds are the Reason of this #earthquake M...   \n",
       "1   4    None      NaN             Forest fire near La Ronge Sask. Canada   \n",
       "2   5    None      NaN  All residents asked to 'shelter in place' are ...   \n",
       "3   6    None      NaN  13,000 people receive #wildfires evacuation or...   \n",
       "4   7    None      NaN  Just got sent this photo from Ruby #Alaska as ...   \n",
       "\n",
       "   target                                      tok_norm_text  num_all_caps  \\\n",
       "0       1  [our, deeds, are, the, reason, of, this, #, ea...         -0.92   \n",
       "1       1   [forest, fire, near, la, ronge, sask, ., canada]         -1.00   \n",
       "2       1  [all, residents, asked, to, ', shelter, in, pl...         -1.00   \n",
       "3       1  [<number>, people, receive, #, wildfires, evac...         -1.00   \n",
       "4       1  [just, got, sent, this, photo, from, ruby, #, ...         -1.00   \n",
       "\n",
       "   num_caps  num_words  sent_neg  sent_neu  sent_pos  sent_compound  \n",
       "0 -0.565217  -0.200000     0.000     0.851     0.149         0.2732  \n",
       "1 -0.565217  -0.600000     0.286     0.714     0.000        -0.3400  \n",
       "2 -0.826087   0.400000     0.095     0.905     0.000        -0.2960  \n",
       "3 -0.913043  -0.533333     0.000     1.000     0.000         0.0000  \n",
       "4 -0.739130   0.000000     0.000     1.000     0.000         0.0000  "
      ]
     },
     "execution_count": 29,
     "metadata": {},
     "output_type": "execute_result"
    }
   ],
   "source": [
    "train_df.head()"
   ]
  },
  {
   "cell_type": "code",
   "execution_count": 30,
   "metadata": {
    "scrolled": true
   },
   "outputs": [
    {
     "data": {
      "text/plain": [
       "<matplotlib.axes._subplots.AxesSubplot at 0x23e95e3e7f0>"
      ]
     },
     "execution_count": 30,
     "metadata": {},
     "output_type": "execute_result"
    },
    {
     "data": {
      "image/png": "[encoded data removed]",
      "text/plain": [
       "<Figure size 432x288 with 1 Axes>"
      ]
     },
     "metadata": {
      "needs_background": "light"
     },
     "output_type": "display_data"
    }
   ],
   "source": [
    "sns.distplot([len(tok) for tok in train_df['tok_norm_text']])"
   ]
  },
  {
   "cell_type": "markdown",
   "metadata": {},
   "source": [
    "It seems like most of the texts are shorter than 35 words.<br>\n",
    "Thus, a reasonable compromise between data loss and computational complexity will be<br>\n",
    "choosing the maximum length of sequences to be 35, i.e. trimming text after the 35'th word."
   ]
  },
  {
   "cell_type": "markdown",
   "metadata": {},
   "source": [
    "#### Textual feautres to word embedding representation"
   ]
  },
  {
   "cell_type": "code",
   "execution_count": 31,
   "metadata": {},
   "outputs": [],
   "source": [
    "sequence_max_length = 30"
   ]
  },
  {
   "cell_type": "code",
   "execution_count": 32,
   "metadata": {},
   "outputs": [],
   "source": [
    "train_df['text_embedding'] = [\n",
    "    embedding_preprocess(\n",
    "        embedding_model=model_glove_twitter, use_norm=True, seq_len=sequence_max_length, tokenized_text=text)\n",
    "    for text in train_df['tok_norm_text']\n",
    "]"
   ]
  },
  {
   "cell_type": "code",
   "execution_count": 33,
   "metadata": {},
   "outputs": [],
   "source": [
    "train_df['keyword_embedding'] = [\n",
    "    keyword_to_avg_vector(embedding_model=model_glove_twitter, use_norm=True, tokenized_keyword=keyword)\n",
    "    for keyword in train_df['keyword']\n",
    "]"
   ]
  },
  {
   "cell_type": "code",
   "execution_count": 34,
   "metadata": {
    "scrolled": true
   },
   "outputs": [
    {
     "data": {
      "text/html": [
       "<div>\n",
       "<style scoped>\n",
       "    .dataframe tbody tr th:only-of-type {\n",
       "        vertical-align: middle;\n",
       "    }\n",
       "\n",
       "    .dataframe tbody tr th {\n",
       "        vertical-align: top;\n",
       "    }\n",
       "\n",
       "    .dataframe thead th {\n",
       "        text-align: right;\n",
       "    }\n",
       "</style>\n",
       "<table border=\"1\" class=\"dataframe\">\n",
       "  <thead>\n",
       "    <tr style=\"text-align: right;\">\n",
       "      <th></th>\n",
       "      <th>id</th>\n",
       "      <th>keyword</th>\n",
       "      <th>location</th>\n",
       "      <th>text</th>\n",
       "      <th>target</th>\n",
       "      <th>tok_norm_text</th>\n",
       "      <th>num_all_caps</th>\n",
       "      <th>num_caps</th>\n",
       "      <th>num_words</th>\n",
       "      <th>sent_neg</th>\n",
       "      <th>sent_neu</th>\n",
       "      <th>sent_pos</th>\n",
       "      <th>sent_compound</th>\n",
       "      <th>text_embedding</th>\n",
       "      <th>keyword_embedding</th>\n",
       "    </tr>\n",
       "  </thead>\n",
       "  <tbody>\n",
       "    <tr>\n",
       "      <th>0</th>\n",
       "      <td>1</td>\n",
       "      <td>None</td>\n",
       "      <td>NaN</td>\n",
       "      <td>Our Deeds are the Reason of this #earthquake M...</td>\n",
       "      <td>1</td>\n",
       "      <td>[our, deeds, are, the, reason, of, this, #, ea...</td>\n",
       "      <td>-0.92</td>\n",
       "      <td>-0.565217</td>\n",
       "      <td>-0.200000</td>\n",
       "      <td>0.000</td>\n",
       "      <td>0.851</td>\n",
       "      <td>0.149</td>\n",
       "      <td>0.2732</td>\n",
       "      <td>[[0.0, 0.0, 0.0, 0.0, 0.0, 0.0, 0.0, 0.0, 0.0,...</td>\n",
       "      <td>[[0.0, 0.0, 0.0, 0.0, 0.0, 0.0, 0.0, 0.0, 0.0,...</td>\n",
       "    </tr>\n",
       "    <tr>\n",
       "      <th>1</th>\n",
       "      <td>4</td>\n",
       "      <td>None</td>\n",
       "      <td>NaN</td>\n",
       "      <td>Forest fire near La Ronge Sask. Canada</td>\n",
       "      <td>1</td>\n",
       "      <td>[forest, fire, near, la, ronge, sask, ., canada]</td>\n",
       "      <td>-1.00</td>\n",
       "      <td>-0.565217</td>\n",
       "      <td>-0.600000</td>\n",
       "      <td>0.286</td>\n",
       "      <td>0.714</td>\n",
       "      <td>0.000</td>\n",
       "      <td>-0.3400</td>\n",
       "      <td>[[0.0, 0.0, 0.0, 0.0, 0.0, 0.0, 0.0, 0.0, 0.0,...</td>\n",
       "      <td>[[0.0, 0.0, 0.0, 0.0, 0.0, 0.0, 0.0, 0.0, 0.0,...</td>\n",
       "    </tr>\n",
       "    <tr>\n",
       "      <th>2</th>\n",
       "      <td>5</td>\n",
       "      <td>None</td>\n",
       "      <td>NaN</td>\n",
       "      <td>All residents asked to 'shelter in place' are ...</td>\n",
       "      <td>1</td>\n",
       "      <td>[all, residents, asked, to, ', shelter, in, pl...</td>\n",
       "      <td>-1.00</td>\n",
       "      <td>-0.826087</td>\n",
       "      <td>0.400000</td>\n",
       "      <td>0.095</td>\n",
       "      <td>0.905</td>\n",
       "      <td>0.000</td>\n",
       "      <td>-0.2960</td>\n",
       "      <td>[[0.0, 0.0, 0.0, 0.0, 0.0, 0.0, 0.0, 0.0, 0.0,...</td>\n",
       "      <td>[[0.0, 0.0, 0.0, 0.0, 0.0, 0.0, 0.0, 0.0, 0.0,...</td>\n",
       "    </tr>\n",
       "    <tr>\n",
       "      <th>3</th>\n",
       "      <td>6</td>\n",
       "      <td>None</td>\n",
       "      <td>NaN</td>\n",
       "      <td>13,000 people receive #wildfires evacuation or...</td>\n",
       "      <td>1</td>\n",
       "      <td>[&lt;number&gt;, people, receive, #, wildfires, evac...</td>\n",
       "      <td>-1.00</td>\n",
       "      <td>-0.913043</td>\n",
       "      <td>-0.533333</td>\n",
       "      <td>0.000</td>\n",
       "      <td>1.000</td>\n",
       "      <td>0.000</td>\n",
       "      <td>0.0000</td>\n",
       "      <td>[[0.0, 0.0, 0.0, 0.0, 0.0, 0.0, 0.0, 0.0, 0.0,...</td>\n",
       "      <td>[[0.0, 0.0, 0.0, 0.0, 0.0, 0.0, 0.0, 0.0, 0.0,...</td>\n",
       "    </tr>\n",
       "    <tr>\n",
       "      <th>4</th>\n",
       "      <td>7</td>\n",
       "      <td>None</td>\n",
       "      <td>NaN</td>\n",
       "      <td>Just got sent this photo from Ruby #Alaska as ...</td>\n",
       "      <td>1</td>\n",
       "      <td>[just, got, sent, this, photo, from, ruby, #, ...</td>\n",
       "      <td>-1.00</td>\n",
       "      <td>-0.739130</td>\n",
       "      <td>0.000000</td>\n",
       "      <td>0.000</td>\n",
       "      <td>1.000</td>\n",
       "      <td>0.000</td>\n",
       "      <td>0.0000</td>\n",
       "      <td>[[0.0, 0.0, 0.0, 0.0, 0.0, 0.0, 0.0, 0.0, 0.0,...</td>\n",
       "      <td>[[0.0, 0.0, 0.0, 0.0, 0.0, 0.0, 0.0, 0.0, 0.0,...</td>\n",
       "    </tr>\n",
       "  </tbody>\n",
       "</table>\n",
       "</div>"
      ],
      "text/plain": [
       "   id keyword location                                               text  \\\n",
       "0   1    None      NaN  Our Deeds are the Reason of this #earthquake M...   \n",
       "1   4    None      NaN             Forest fire near La Ronge Sask. Canada   \n",
       "2   5    None      NaN  All residents asked to 'shelter in place' are ...   \n",
       "3   6    None      NaN  13,000 people receive #wildfires evacuation or...   \n",
       "4   7    None      NaN  Just got sent this photo from Ruby #Alaska as ...   \n",
       "\n",
       "   target                                      tok_norm_text  num_all_caps  \\\n",
       "0       1  [our, deeds, are, the, reason, of, this, #, ea...         -0.92   \n",
       "1       1   [forest, fire, near, la, ronge, sask, ., canada]         -1.00   \n",
       "2       1  [all, residents, asked, to, ', shelter, in, pl...         -1.00   \n",
       "3       1  [<number>, people, receive, #, wildfires, evac...         -1.00   \n",
       "4       1  [just, got, sent, this, photo, from, ruby, #, ...         -1.00   \n",
       "\n",
       "   num_caps  num_words  sent_neg  sent_neu  sent_pos  sent_compound  \\\n",
       "0 -0.565217  -0.200000     0.000     0.851     0.149         0.2732   \n",
       "1 -0.565217  -0.600000     0.286     0.714     0.000        -0.3400   \n",
       "2 -0.826087   0.400000     0.095     0.905     0.000        -0.2960   \n",
       "3 -0.913043  -0.533333     0.000     1.000     0.000         0.0000   \n",
       "4 -0.739130   0.000000     0.000     1.000     0.000         0.0000   \n",
       "\n",
       "                                      text_embedding  \\\n",
       "0  [[0.0, 0.0, 0.0, 0.0, 0.0, 0.0, 0.0, 0.0, 0.0,...   \n",
       "1  [[0.0, 0.0, 0.0, 0.0, 0.0, 0.0, 0.0, 0.0, 0.0,...   \n",
       "2  [[0.0, 0.0, 0.0, 0.0, 0.0, 0.0, 0.0, 0.0, 0.0,...   \n",
       "3  [[0.0, 0.0, 0.0, 0.0, 0.0, 0.0, 0.0, 0.0, 0.0,...   \n",
       "4  [[0.0, 0.0, 0.0, 0.0, 0.0, 0.0, 0.0, 0.0, 0.0,...   \n",
       "\n",
       "                                   keyword_embedding  \n",
       "0  [[0.0, 0.0, 0.0, 0.0, 0.0, 0.0, 0.0, 0.0, 0.0,...  \n",
       "1  [[0.0, 0.0, 0.0, 0.0, 0.0, 0.0, 0.0, 0.0, 0.0,...  \n",
       "2  [[0.0, 0.0, 0.0, 0.0, 0.0, 0.0, 0.0, 0.0, 0.0,...  \n",
       "3  [[0.0, 0.0, 0.0, 0.0, 0.0, 0.0, 0.0, 0.0, 0.0,...  \n",
       "4  [[0.0, 0.0, 0.0, 0.0, 0.0, 0.0, 0.0, 0.0, 0.0,...  "
      ]
     },
     "execution_count": 34,
     "metadata": {},
     "output_type": "execute_result"
    }
   ],
   "source": [
    "train_df.head()"
   ]
  },
  {
   "cell_type": "markdown",
   "metadata": {},
   "source": [
    "#### Create one embedding representation of all chosen features"
   ]
  },
  {
   "cell_type": "code",
   "execution_count": 35,
   "metadata": {},
   "outputs": [],
   "source": [
    "def _single_values_repeat(seq_len, static_single_values):\n",
    "    \"\"\"Returns a numpy array containing seq_len-repeated values.\"\"\"\n",
    "    \n",
    "    output = static_single_values.reshape((1, len(static_single_values)))\n",
    "    output = np.repeat(output, seq_len, axis=0)\n",
    "    return output"
   ]
  },
  {
   "cell_type": "code",
   "execution_count": 36,
   "metadata": {},
   "outputs": [],
   "source": [
    "def _static_embedding_repeat(seq_len, static_embedding_values):\n",
    "    \"\"\"Return a numpy array os stacked static embedding vectors.\"\"\"\n",
    "    \n",
    "    horizontally_stacked = np.hstack(static_embedding_values)\n",
    "    output = np.repeat(horizontally_stacked, seq_len, axis=0)\n",
    "    return output"
   ]
  },
  {
   "cell_type": "code",
   "execution_count": 37,
   "metadata": {},
   "outputs": [],
   "source": [
    "def concatenate_embeddings(df, embedding_model, seq_len, sequence_embedding_col, static_embedding_cols, static_singles_cols):\n",
    "    \"\"\"Returns one embedding representation of all features - main sequence, static embedded featues, and single values.\"\"\"\n",
    "    \n",
    "    emb_dim = embedding_model.vector_size\n",
    "    \n",
    "    # instantiate output matrix\n",
    "    output = np.zeros((len(df), seq_len, len(static_singles_cols) + len(static_embedding_cols) * emb_dim + emb_dim))\n",
    "    \n",
    "    for idx, row in df.iterrows():\n",
    "        \n",
    "        single_vals = _single_values_repeat(seq_len, row[static_singles_cols].values)\n",
    "        static_emb_vals = _static_embedding_repeat(seq_len, row[static_embedding_cols])\n",
    "        seq_emb_vals = row[sequence_embedding_col]\n",
    "\n",
    "        # horizontally stack embeddings and features\n",
    "        row_embedding = np.hstack((single_vals, static_emb_vals, seq_emb_vals))\n",
    "\n",
    "        output[idx, :, :] = row_embedding\n",
    "        \n",
    "    return output"
   ]
  },
  {
   "cell_type": "code",
   "execution_count": 38,
   "metadata": {},
   "outputs": [],
   "source": [
    "# Create one embedding representation of all chosen features\n",
    "embedding_matrix = concatenate_embeddings(\n",
    "    df=train_df, embedding_model=model_glove_twitter, seq_len=sequence_max_length,\n",
    "    sequence_embedding_col='text_embedding',\n",
    "    static_embedding_cols=['keyword_embedding'],\n",
    "    static_singles_cols=['num_all_caps', 'num_caps', 'num_words', 'sent_neg', 'sent_neu', 'sent_pos', 'sent_compound'])"
   ]
  },
  {
   "cell_type": "code",
   "execution_count": 39,
   "metadata": {},
   "outputs": [
    {
     "data": {
      "text/plain": [
       "(7613, 30, 207)"
      ]
     },
     "execution_count": 39,
     "metadata": {},
     "output_type": "execute_result"
    }
   ],
   "source": [
    "embedding_matrix.shape"
   ]
  },
  {
   "cell_type": "markdown",
   "metadata": {},
   "source": [
    "# Neural-network creation and utility functions"
   ]
  },
  {
   "cell_type": "code",
   "execution_count": 40,
   "metadata": {},
   "outputs": [],
   "source": [
    "class BiLSTM(nn.Module):\n",
    "    \"\"\"Extends nn.Module with some methods and attributes. Should be inherited by specific network subclasses.\"\"\"\n",
    "    \n",
    "    \"\"\"A pyTorch Bi-Directional LSTM RNN implementation, which inherits BaseNN.\"\"\"\n",
    "\n",
    "    def __init__(self, embedding_dim, hidden_dim, num_layers, num_classes, batch_size, dropout, device):\n",
    "        super(BiLSTM, self).__init__()\n",
    "        self.hidden_dim = hidden_dim\n",
    "        self.batch_size = batch_size\n",
    "        self.num_layers = num_layers\n",
    "\n",
    "        self.dropout = nn.Dropout(p=dropout)\n",
    "\n",
    "        self.lstm = nn.LSTM(\n",
    "            input_size=embedding_dim, hidden_size=hidden_dim, num_layers=num_layers,\n",
    "            batch_first=True, dropout=dropout, bidirectional=True)\n",
    "        \n",
    "        self.fc = nn.Linear(hidden_dim * 2, num_classes)\n",
    "        \n",
    "        self.device = device\n",
    "        \n",
    "        # instantiate lists for evaluating and plotting\n",
    "        self.train_loss = []\n",
    "        self.train_acc = []\n",
    "        self.val_loss = []\n",
    "        self.val_acc = []\n",
    "        \n",
    "        # an attribute to hold model's best weights (used for evaluating)\n",
    "        self.best_weights = deepcopy(self.state_dict())\n",
    "\n",
    "    def _init_hidden(self, current_batch_size):\n",
    "        \"\"\"Sets initial hidden and cell states (for LSTM).\"\"\"\n",
    "\n",
    "        h0 = torch.zeros(self.num_layers * 2, current_batch_size, self.hidden_dim).to(self.device)\n",
    "        c0 = torch.zeros(self.num_layers * 2, current_batch_size, self.hidden_dim).to(self.device)\n",
    "        return h0, c0\n",
    "\n",
    "    def forward(self, x):\n",
    "        \"\"\"Forward step.\"\"\"\n",
    "\n",
    "        # Forward propagate LSTM\n",
    "        h, c = self._init_hidden(current_batch_size=x.size(0))\n",
    "        out, _ = self.lstm(x, (h, c))\n",
    "\n",
    "        # dropout\n",
    "        out = self.dropout(out)\n",
    "\n",
    "        # Decode the hidden state of the last time step\n",
    "        out = self.fc(out[:, -1, :])\n",
    "\n",
    "        return out\n",
    "    \n",
    "    def predict(self, x: torch.tensor):\n",
    "        \"\"\"Return a tensor of predictions of tensor x.\"\"\"\n",
    "\n",
    "        class_predictions = self(x).data\n",
    "        _, predicted = torch.max(class_predictions, dim=1)\n",
    "        return predicted\n",
    "\n",
    "    def _train_evaluate(self, X_train, y_train, X_val, y_val, criterion):\n",
    "        \"\"\"\n",
    "        Evaluates model during training time, and returns train_loss, train_acc, val_loss, val_acc.\n",
    "\n",
    "        Using item() to extract a number from a tensor containing a single value, is mandatory to avoid memory overflow.\n",
    "        \"\"\"\n",
    "\n",
    "        # set model to evaluation mode\n",
    "        self.eval()\n",
    "\n",
    "        # calculate accuracy and loss of train set and append to lists\n",
    "        epoch_train_acc = (self.predict(X_train) == y_train).sum().item() / y_train.shape[0]\n",
    "        epoch_train_loss = criterion(self(X_train), y_train).item()\n",
    "        self.train_acc.append(epoch_train_acc)\n",
    "        self.train_loss.append(epoch_train_loss)\n",
    "\n",
    "        # calculate accuracy and loss of validation set, and append to lists\n",
    "        if X_val is not None and y_val is not None:\n",
    "            epoch_val_acc = (self.predict(X_val) == y_val).sum().item() / y_val.shape[0]\n",
    "            epoch_val_loss = criterion(self(X_val), y_val).item()\n",
    "            self.val_acc.append(epoch_val_acc)\n",
    "            self.val_loss.append(epoch_val_loss)\n",
    "\n",
    "            # return all loss and accuracy values\n",
    "            return epoch_train_loss, epoch_train_acc, epoch_val_loss, epoch_val_acc\n",
    "\n",
    "        # return train set loss and accuracy values, if there is no validation set\n",
    "        return epoch_train_loss, epoch_train_acc, None, None\n",
    "\n",
    "    def best_epoch(self):\n",
    "        \"\"\"Returns a dictionary containing best epochs corresponding to train_loss, train_acc, val_loss, val_acc.\"\"\"\n",
    "\n",
    "        best_train_loss_epoch = np.argmin(np.array(self.train_loss)) + 1\n",
    "        best_train_acc_epoch = np.argmax(np.array(self.train_acc)) + 1\n",
    "\n",
    "        output = {'best Training loss epoch': best_train_loss_epoch, 'best Training accuracy epoch': best_train_acc_epoch}\n",
    "\n",
    "        if len(self.val_loss) > 0:\n",
    "            best_val_loss_epoch = np.argmin(np.array(self.val_loss))\n",
    "            best_val_acc_epoch = np.argmax(np.array(self.val_acc))\n",
    "\n",
    "            output.update({\n",
    "                'best Validation loss epoch': best_val_loss_epoch, 'best Validation accuracy epoch': best_val_acc_epoch\n",
    "            })\n",
    "\n",
    "        return output\n",
    "\n",
    "    def get_num_parameters(self):\n",
    "        \"\"\"Returns a dictionary containing the number of total and trainable parameters.\"\"\"\n",
    "\n",
    "        total_params = sum(p.numel() for p in self.parameters())\n",
    "        trainable_params = sum(p.numel() for p in self.parameters() if p.requires_grad)\n",
    "        return {'total_parameters': total_params, 'trainable_parameters': trainable_params}\n",
    "\n",
    "    @staticmethod\n",
    "    def _print_progress(epoch, train_loss, train_acc, val_loss, val_acc, improved, verbose=False):\n",
    "        \"\"\"Prints the training progress.\"\"\"\n",
    "\n",
    "        output = f'Epoch {str(epoch + 1).zfill(3)}:'\n",
    "        output += f'\\n\\t Training   Loss: {str(train_loss)[:5]} | Accuracy: {str(train_acc)[:5]}.'\n",
    "\n",
    "        if val_loss is not None and val_acc is not None:\n",
    "            output += f'\\n\\t Validation Loss: {str(val_loss)[:5]} | Accuracy: {str(val_acc)[:5]}.'\n",
    "\n",
    "        if improved:\n",
    "            output += f' Improvement!'\n",
    "\n",
    "        if verbose:\n",
    "            print(output)\n",
    "\n",
    "    def fit(self, X_train, y_train, X_val, y_val, epoch_num, criterion, optimizer, verbose=False):\n",
    "        \"\"\"\n",
    "        Trains the model.\n",
    "\n",
    "        :param X_train, y_train: training set.\n",
    "        :param X_val, y_val: optional. validation set.\n",
    "        :param epoch_num: number of epochs to perform.\n",
    "        :param criterion: loss functions.\n",
    "        :param optimizer: optimizer.\n",
    "        :param verbose: a boolean to determine whether to print training progress.\n",
    "        \"\"\"\n",
    "\n",
    "        # a variable to determine whether to update best weights (and report progress)\n",
    "        best_acc = 0.0\n",
    "\n",
    "        # split dataset to batches\n",
    "        X_train_tensor_batches = torch.split(X_train, self.batch_size)\n",
    "        y_train_tensor_batches = torch.split(y_train, self.batch_size)\n",
    "\n",
    "        for epoch in range(epoch_num):\n",
    "\n",
    "            # set model to train mode (at end of each epoch model is set to evaluation mode)\n",
    "            self.train()\n",
    "\n",
    "            for i, (X_batch, y_batch) in enumerate(zip(X_train_tensor_batches, y_train_tensor_batches)):\n",
    "\n",
    "                # Forward pass\n",
    "                outputs = self(X_batch)\n",
    "                loss = criterion(outputs, y_batch)\n",
    "\n",
    "                # Backward and optimize\n",
    "                optimizer.zero_grad()\n",
    "                loss.backward()\n",
    "                optimizer.step()\n",
    "\n",
    "            # calculate accuracy and loss of train and validation set (if validation set is  None, values are None)\n",
    "            train_loss, train_acc, val_loss, val_acc = self._train_evaluate(X_train, y_train, X_val, y_val, criterion)\n",
    "\n",
    "            # a boolean to determine the correct accuracy to consider for progress (Validation ot Training)\n",
    "            if X_val is not None and y_val is not None:\n",
    "                accuracy = val_acc\n",
    "            else:\n",
    "                accuracy = train_acc\n",
    "\n",
    "            # if accuracy outperforms previous best accuracy, print and update best accuracy and model's best weights\n",
    "            if accuracy > best_acc:\n",
    "                self._print_progress(epoch, train_loss, train_acc, val_loss, val_acc, improved=True, verbose=verbose)\n",
    "                best_acc = accuracy\n",
    "                self.best_weights = deepcopy(self.state_dict())\n",
    "\n",
    "            # else, print\n",
    "            else:\n",
    "                self._print_progress(epoch, train_loss, train_acc, val_loss, val_acc, improved=False, verbose=verbose)\n",
    "\n",
    "        # uncomment next line to restore best weights (determined by best accuracy)\n",
    "        #self.load_state_dict(best_weights)\n",
    "        gc.collect()"
   ]
  },
  {
   "cell_type": "code",
   "execution_count": 41,
   "metadata": {},
   "outputs": [],
   "source": [
    "def plot_graphs(model):\n",
    "    plt.figure(figsize=(6, 12))\n",
    "\n",
    "    plt.subplot(311)\n",
    "    plt.title(\"Accuracy\")\n",
    "    plt.xlabel(\"Epochs\")\n",
    "    plt.ylabel(\"Accuracy\")\n",
    "    plt.plot(range(1, len(model.train_acc)+1), model.train_acc, label=\"Train\")\n",
    "    plt.plot(range(1, len(model.val_acc)+1), model.val_acc, label=\"Validation\")\n",
    "\n",
    "    plt.xticks(np.arange(0, len(model.train_acc)+1, 5))\n",
    "    plt.legend()\n",
    "\n",
    "    plt.subplot(312)\n",
    "    plt.title(\"Loss\")\n",
    "    plt.xlabel(\"Epochs\")\n",
    "    plt.ylabel(\"Loss\")\n",
    "    plt.plot(range(1, len(model.train_loss)+1), model.train_loss, label=\"Train\")\n",
    "    plt.plot(range(1, len(model.val_loss)+1), model.val_loss, label=\"Validation\")\n",
    "\n",
    "    plt.xticks(np.arange(0, len(model.train_acc)+1, 5))\n",
    "    plt.legend()\n",
    "\n",
    "    plt.tight_layout(pad=0.4, w_pad=0.5, h_pad=1.0)\n",
    "    plt.show()"
   ]
  },
  {
   "cell_type": "markdown",
   "metadata": {},
   "source": [
    "# Running the network"
   ]
  },
  {
   "cell_type": "markdown",
   "metadata": {},
   "source": [
    "At first, I split the train data to train and test set (the test set is called held-out set):"
   ]
  },
  {
   "cell_type": "code",
   "execution_count": 42,
   "metadata": {},
   "outputs": [],
   "source": [
    "X_train_val, X_held_out_set, y_train_val, y_held_out_set = train_test_split(\n",
    "    embedding_matrix, train_df['target'].values, test_size=0.1)"
   ]
  },
  {
   "cell_type": "code",
   "execution_count": 43,
   "metadata": {},
   "outputs": [
    {
     "name": "stdout",
     "output_type": "stream",
     "text": [
      "Using device: cuda\n"
     ]
    }
   ],
   "source": [
    "# determines which device to mount the model to\n",
    "device = 'cuda' if torch.cuda.is_available() else 'cpu'\n",
    "print(f'Using device: {device}')"
   ]
  },
  {
   "cell_type": "code",
   "execution_count": 44,
   "metadata": {},
   "outputs": [],
   "source": [
    "# convert above LSTM arrays to tensors to be used in BiLSTM Neural Network\n",
    "X_train_val = torch.from_numpy(X_train_val).float().to(device)\n",
    "X_held_out_set = torch.from_numpy(X_held_out_set).float().to(device)\n",
    "y_train_val = torch.from_numpy(y_train_val).long().to(device)\n",
    "y_held_out_set = torch.from_numpy(y_held_out_set).long().to(device)"
   ]
  },
  {
   "cell_type": "markdown",
   "metadata": {},
   "source": [
    "I used the train-val set to perform 10-fold cross validation to tune the hyper-parameters of the network. <br>\n",
    "The 10-fold cross validation is left out of the notebook for readability and order. <br>\n",
    "The chosen hyper-parameters are as following:"
   ]
  },
  {
   "cell_type": "code",
   "execution_count": 45,
   "metadata": {},
   "outputs": [],
   "source": [
    "# network hyprer-parameters\n",
    "embedding_dim = embedding_matrix.shape[2]  # depends on used embedding model\n",
    "hidden_size = 50  # 50 best\n",
    "num_layers = 2  # 2 best\n",
    "num_classes = 2  # 2 mandatory\n",
    "batch_size = 256  # 256 best\n",
    "dropout = 0.3  # 0.3 is probably best"
   ]
  },
  {
   "cell_type": "code",
   "execution_count": 46,
   "metadata": {},
   "outputs": [],
   "source": [
    "# learning hyprer-parameters\n",
    "num_epochs = 20  # 20 best (to avoid overfitting)\n",
    "learning_rate = 0.0005  # 0.0005 best\n",
    "weight_decay = 0.0005  # 0.0005 best"
   ]
  },
  {
   "cell_type": "markdown",
   "metadata": {},
   "source": [
    "To show the results, I use the train-val data to train the network, and use the held-out to test it:"
   ]
  },
  {
   "cell_type": "code",
   "execution_count": 47,
   "metadata": {},
   "outputs": [],
   "source": [
    "# instantiate Model, Loss and Optimizer\n",
    "bilstm = BiLSTM(embedding_dim, hidden_size, num_layers, num_classes, batch_size, dropout, device).to(device)\n",
    "criterion = nn.CrossEntropyLoss()\n",
    "optimizer = torch.optim.Adam(bilstm.parameters(), lr=learning_rate, weight_decay=weight_decay)"
   ]
  },
  {
   "cell_type": "code",
   "execution_count": 48,
   "metadata": {},
   "outputs": [
    {
     "data": {
      "text/plain": [
       "{'total_parameters': 164602, 'trainable_parameters': 164602}"
      ]
     },
     "execution_count": 48,
     "metadata": {},
     "output_type": "execute_result"
    }
   ],
   "source": [
    "bilstm.get_num_parameters()"
   ]
  },
  {
   "cell_type": "code",
   "execution_count": 49,
   "metadata": {},
   "outputs": [
    {
     "name": "stdout",
     "output_type": "stream",
     "text": [
      "Epoch 001:\n",
      "\t Training   Loss: 0.666 | Accuracy: 0.569.\n",
      "\t Validation Loss: 0.664 | Accuracy: 0.573. Improvement!\n",
      "Epoch 002:\n",
      "\t Training   Loss: 0.575 | Accuracy: 0.708.\n",
      "\t Validation Loss: 0.559 | Accuracy: 0.708. Improvement!\n",
      "Epoch 003:\n",
      "\t Training   Loss: 0.521 | Accuracy: 0.751.\n",
      "\t Validation Loss: 0.500 | Accuracy: 0.766. Improvement!\n",
      "Epoch 004:\n",
      "\t Training   Loss: 0.489 | Accuracy: 0.772.\n",
      "\t Validation Loss: 0.474 | Accuracy: 0.791. Improvement!\n",
      "Epoch 005:\n",
      "\t Training   Loss: 0.462 | Accuracy: 0.789.\n",
      "\t Validation Loss: 0.457 | Accuracy: 0.787.\n",
      "Epoch 006:\n",
      "\t Training   Loss: 0.437 | Accuracy: 0.804.\n",
      "\t Validation Loss: 0.434 | Accuracy: 0.813. Improvement!\n",
      "Epoch 007:\n",
      "\t Training   Loss: 0.427 | Accuracy: 0.812.\n",
      "\t Validation Loss: 0.420 | Accuracy: 0.811.\n",
      "Epoch 008:\n",
      "\t Training   Loss: 0.423 | Accuracy: 0.813.\n",
      "\t Validation Loss: 0.415 | Accuracy: 0.812.\n",
      "Epoch 009:\n",
      "\t Training   Loss: 0.413 | Accuracy: 0.820.\n",
      "\t Validation Loss: 0.406 | Accuracy: 0.813.\n",
      "Epoch 010:\n",
      "\t Training   Loss: 0.408 | Accuracy: 0.823.\n",
      "\t Validation Loss: 0.404 | Accuracy: 0.816. Improvement!\n",
      "Epoch 011:\n",
      "\t Training   Loss: 0.410 | Accuracy: 0.823.\n",
      "\t Validation Loss: 0.405 | Accuracy: 0.826. Improvement!\n",
      "Epoch 012:\n",
      "\t Training   Loss: 0.406 | Accuracy: 0.825.\n",
      "\t Validation Loss: 0.402 | Accuracy: 0.824.\n",
      "Epoch 013:\n",
      "\t Training   Loss: 0.403 | Accuracy: 0.827.\n",
      "\t Validation Loss: 0.402 | Accuracy: 0.821.\n",
      "Epoch 014:\n",
      "\t Training   Loss: 0.399 | Accuracy: 0.829.\n",
      "\t Validation Loss: 0.398 | Accuracy: 0.821.\n",
      "Epoch 015:\n",
      "\t Training   Loss: 0.400 | Accuracy: 0.828.\n",
      "\t Validation Loss: 0.399 | Accuracy: 0.828. Improvement!\n",
      "Epoch 016:\n",
      "\t Training   Loss: 0.397 | Accuracy: 0.830.\n",
      "\t Validation Loss: 0.399 | Accuracy: 0.825.\n",
      "Epoch 017:\n",
      "\t Training   Loss: 0.396 | Accuracy: 0.830.\n",
      "\t Validation Loss: 0.399 | Accuracy: 0.828.\n",
      "Epoch 018:\n",
      "\t Training   Loss: 0.392 | Accuracy: 0.831.\n",
      "\t Validation Loss: 0.398 | Accuracy: 0.829. Improvement!\n",
      "Epoch 019:\n",
      "\t Training   Loss: 0.392 | Accuracy: 0.832.\n",
      "\t Validation Loss: 0.399 | Accuracy: 0.830. Improvement!\n",
      "Epoch 020:\n",
      "\t Training   Loss: 0.389 | Accuracy: 0.833.\n",
      "\t Validation Loss: 0.399 | Accuracy: 0.834. Improvement!\n"
     ]
    }
   ],
   "source": [
    "# train the model\n",
    "bilstm.fit(\n",
    "    X_train=X_train_val, y_train=y_train_val, X_val=X_held_out_set, y_val=y_held_out_set,\n",
    "    epoch_num=num_epochs, criterion=criterion, optimizer=optimizer, verbose=True)"
   ]
  },
  {
   "cell_type": "markdown",
   "metadata": {},
   "source": [
    "The training graph:"
   ]
  },
  {
   "cell_type": "code",
   "execution_count": 50,
   "metadata": {},
   "outputs": [
    {
     "data": {
      "image/png": "[encoded data removed]",
      "text/plain": [
       "<Figure size 432x864 with 2 Axes>"
      ]
     },
     "metadata": {
      "needs_background": "light"
     },
     "output_type": "display_data"
    }
   ],
   "source": [
    "plot_graphs(bilstm)"
   ]
  },
  {
   "cell_type": "markdown",
   "metadata": {},
   "source": [
    "As we now know our network is doing it's job properly, I train a network again, using all the training-data:"
   ]
  },
  {
   "cell_type": "code",
   "execution_count": 51,
   "metadata": {},
   "outputs": [],
   "source": [
    "del(bilstm)"
   ]
  },
  {
   "cell_type": "code",
   "execution_count": 52,
   "metadata": {},
   "outputs": [],
   "source": [
    "X_train = torch.from_numpy(embedding_matrix).float().to(device)\n",
    "y_train = torch.from_numpy(train_df['target'].values).long().to(device)"
   ]
  },
  {
   "cell_type": "code",
   "execution_count": 53,
   "metadata": {},
   "outputs": [],
   "source": [
    "# instantiate Model, Loss and Optimizer\n",
    "bilstm = BiLSTM(embedding_dim, hidden_size, num_layers, num_classes, batch_size, dropout, device).to(device)\n",
    "criterion = nn.CrossEntropyLoss()\n",
    "optimizer = torch.optim.Adam(bilstm.parameters(), lr=learning_rate, weight_decay=weight_decay)"
   ]
  },
  {
   "cell_type": "code",
   "execution_count": 54,
   "metadata": {
    "scrolled": true
   },
   "outputs": [
    {
     "name": "stdout",
     "output_type": "stream",
     "text": [
      "Epoch 001:\n",
      "\t Training   Loss: 0.675 | Accuracy: 0.570. Improvement!\n",
      "Epoch 002:\n",
      "\t Training   Loss: 0.644 | Accuracy: 0.642. Improvement!\n",
      "Epoch 003:\n",
      "\t Training   Loss: 0.548 | Accuracy: 0.725. Improvement!\n",
      "Epoch 004:\n",
      "\t Training   Loss: 0.507 | Accuracy: 0.758. Improvement!\n",
      "Epoch 005:\n",
      "\t Training   Loss: 0.479 | Accuracy: 0.778. Improvement!\n",
      "Epoch 006:\n",
      "\t Training   Loss: 0.452 | Accuracy: 0.800. Improvement!\n",
      "Epoch 007:\n",
      "\t Training   Loss: 0.440 | Accuracy: 0.805. Improvement!\n",
      "Epoch 008:\n",
      "\t Training   Loss: 0.431 | Accuracy: 0.810. Improvement!\n",
      "Epoch 009:\n",
      "\t Training   Loss: 0.427 | Accuracy: 0.808.\n",
      "Epoch 010:\n",
      "\t Training   Loss: 0.418 | Accuracy: 0.817. Improvement!\n",
      "Epoch 011:\n",
      "\t Training   Loss: 0.443 | Accuracy: 0.801.\n",
      "Epoch 012:\n",
      "\t Training   Loss: 0.415 | Accuracy: 0.818. Improvement!\n",
      "Epoch 013:\n",
      "\t Training   Loss: 0.414 | Accuracy: 0.819. Improvement!\n",
      "Epoch 014:\n",
      "\t Training   Loss: 0.406 | Accuracy: 0.822. Improvement!\n",
      "Epoch 015:\n",
      "\t Training   Loss: 0.405 | Accuracy: 0.826. Improvement!\n",
      "Epoch 016:\n",
      "\t Training   Loss: 0.406 | Accuracy: 0.823.\n",
      "Epoch 017:\n",
      "\t Training   Loss: 0.402 | Accuracy: 0.827. Improvement!\n",
      "Epoch 018:\n",
      "\t Training   Loss: 0.402 | Accuracy: 0.824.\n",
      "Epoch 019:\n",
      "\t Training   Loss: 0.417 | Accuracy: 0.816.\n",
      "Epoch 020:\n",
      "\t Training   Loss: 0.405 | Accuracy: 0.821.\n"
     ]
    }
   ],
   "source": [
    "# train the model\n",
    "bilstm.fit(\n",
    "    X_train=X_train, y_train=y_train, X_val=None, y_val=None,\n",
    "    epoch_num=num_epochs, criterion=criterion, optimizer=optimizer, verbose=True)"
   ]
  },
  {
   "cell_type": "markdown",
   "metadata": {},
   "source": [
    "The training graph (note that this time there is no validation data to test on):"
   ]
  },
  {
   "cell_type": "code",
   "execution_count": 55,
   "metadata": {},
   "outputs": [
    {
     "data": {
      "image/png": "[encoded data removed]",
      "text/plain": [
       "<Figure size 432x864 with 2 Axes>"
      ]
     },
     "metadata": {
      "needs_background": "light"
     },
     "output_type": "display_data"
    }
   ],
   "source": [
    "plot_graphs(bilstm)"
   ]
  },
  {
   "cell_type": "markdown",
   "metadata": {},
   "source": [
    "# Predicting test set"
   ]
  },
  {
   "cell_type": "code",
   "execution_count": 56,
   "metadata": {},
   "outputs": [],
   "source": [
    "TEST_SET_PATH = 'Data\\\\test.csv'"
   ]
  },
  {
   "cell_type": "code",
   "execution_count": 57,
   "metadata": {},
   "outputs": [
    {
     "data": {
      "text/html": [
       "<div>\n",
       "<style scoped>\n",
       "    .dataframe tbody tr th:only-of-type {\n",
       "        vertical-align: middle;\n",
       "    }\n",
       "\n",
       "    .dataframe tbody tr th {\n",
       "        vertical-align: top;\n",
       "    }\n",
       "\n",
       "    .dataframe thead th {\n",
       "        text-align: right;\n",
       "    }\n",
       "</style>\n",
       "<table border=\"1\" class=\"dataframe\">\n",
       "  <thead>\n",
       "    <tr style=\"text-align: right;\">\n",
       "      <th></th>\n",
       "      <th>id</th>\n",
       "      <th>keyword</th>\n",
       "      <th>location</th>\n",
       "      <th>text</th>\n",
       "    </tr>\n",
       "  </thead>\n",
       "  <tbody>\n",
       "    <tr>\n",
       "      <th>0</th>\n",
       "      <td>0</td>\n",
       "      <td>NaN</td>\n",
       "      <td>NaN</td>\n",
       "      <td>Just happened a terrible car crash</td>\n",
       "    </tr>\n",
       "    <tr>\n",
       "      <th>1</th>\n",
       "      <td>2</td>\n",
       "      <td>NaN</td>\n",
       "      <td>NaN</td>\n",
       "      <td>Heard about #earthquake is different cities, s...</td>\n",
       "    </tr>\n",
       "    <tr>\n",
       "      <th>2</th>\n",
       "      <td>3</td>\n",
       "      <td>NaN</td>\n",
       "      <td>NaN</td>\n",
       "      <td>there is a forest fire at spot pond, geese are...</td>\n",
       "    </tr>\n",
       "    <tr>\n",
       "      <th>3</th>\n",
       "      <td>9</td>\n",
       "      <td>NaN</td>\n",
       "      <td>NaN</td>\n",
       "      <td>Apocalypse lighting. #Spokane #wildfires</td>\n",
       "    </tr>\n",
       "    <tr>\n",
       "      <th>4</th>\n",
       "      <td>11</td>\n",
       "      <td>NaN</td>\n",
       "      <td>NaN</td>\n",
       "      <td>Typhoon Soudelor kills 28 in China and Taiwan</td>\n",
       "    </tr>\n",
       "  </tbody>\n",
       "</table>\n",
       "</div>"
      ],
      "text/plain": [
       "   id keyword location                                               text\n",
       "0   0     NaN      NaN                 Just happened a terrible car crash\n",
       "1   2     NaN      NaN  Heard about #earthquake is different cities, s...\n",
       "2   3     NaN      NaN  there is a forest fire at spot pond, geese are...\n",
       "3   9     NaN      NaN           Apocalypse lighting. #Spokane #wildfires\n",
       "4  11     NaN      NaN      Typhoon Soudelor kills 28 in China and Taiwan"
      ]
     },
     "execution_count": 57,
     "metadata": {},
     "output_type": "execute_result"
    }
   ],
   "source": [
    "test_df = pd.read_csv(TEST_SET_PATH)\n",
    "test_df.head()"
   ]
  },
  {
   "cell_type": "code",
   "execution_count": 58,
   "metadata": {},
   "outputs": [],
   "source": [
    "# normalize and tokenize texts and keywords\n",
    "test_df['tok_norm_text'] = [preprocess_text(tokenizer, text) for text in test_df['text']]\n",
    "test_df['keyword'] = test_df['keyword'].apply(preprocess_keyword)"
   ]
  },
  {
   "cell_type": "code",
   "execution_count": 59,
   "metadata": {},
   "outputs": [],
   "source": [
    "# feature extraction\n",
    "test_df['num_all_caps'] = test_df['text'].apply(count_all_caps)\n",
    "test_df['num_caps'] = test_df['text'].apply(count_capitalized)\n",
    "test_df['num_words'] = test_df['text'].apply(count_words)\n",
    "\n",
    "test_df[columns_to_scale] = scaler.transform(test_df[columns_to_scale])\n",
    "\n",
    "sentiment_analyze_df(test_df, 'tok_norm_text')"
   ]
  },
  {
   "cell_type": "code",
   "execution_count": 60,
   "metadata": {},
   "outputs": [],
   "source": [
    "#text embedding\n",
    "test_df['text_embedding'] = [\n",
    "    embedding_preprocess(\n",
    "        embedding_model=model_glove_twitter, use_norm=True, seq_len=sequence_max_length, tokenized_text=text)\n",
    "    for text in test_df['tok_norm_text']\n",
    "]"
   ]
  },
  {
   "cell_type": "code",
   "execution_count": 61,
   "metadata": {},
   "outputs": [],
   "source": [
    "#keyword embedding\n",
    "test_df['keyword_embedding'] = [\n",
    "    keyword_to_avg_vector(embedding_model=model_glove_twitter, use_norm=True, tokenized_keyword=keyword)\n",
    "    for keyword in test_df['keyword']\n",
    "]"
   ]
  },
  {
   "cell_type": "code",
   "execution_count": 62,
   "metadata": {
    "scrolled": true
   },
   "outputs": [
    {
     "data": {
      "text/html": [
       "<div>\n",
       "<style scoped>\n",
       "    .dataframe tbody tr th:only-of-type {\n",
       "        vertical-align: middle;\n",
       "    }\n",
       "\n",
       "    .dataframe tbody tr th {\n",
       "        vertical-align: top;\n",
       "    }\n",
       "\n",
       "    .dataframe thead th {\n",
       "        text-align: right;\n",
       "    }\n",
       "</style>\n",
       "<table border=\"1\" class=\"dataframe\">\n",
       "  <thead>\n",
       "    <tr style=\"text-align: right;\">\n",
       "      <th></th>\n",
       "      <th>id</th>\n",
       "      <th>keyword</th>\n",
       "      <th>location</th>\n",
       "      <th>text</th>\n",
       "      <th>tok_norm_text</th>\n",
       "      <th>num_all_caps</th>\n",
       "      <th>num_caps</th>\n",
       "      <th>num_words</th>\n",
       "      <th>sent_neg</th>\n",
       "      <th>sent_neu</th>\n",
       "      <th>sent_pos</th>\n",
       "      <th>sent_compound</th>\n",
       "      <th>text_embedding</th>\n",
       "      <th>keyword_embedding</th>\n",
       "    </tr>\n",
       "  </thead>\n",
       "  <tbody>\n",
       "    <tr>\n",
       "      <th>0</th>\n",
       "      <td>0</td>\n",
       "      <td>None</td>\n",
       "      <td>NaN</td>\n",
       "      <td>Just happened a terrible car crash</td>\n",
       "      <td>[just, happened, a, terrible, car, crash]</td>\n",
       "      <td>-1.00</td>\n",
       "      <td>-0.913043</td>\n",
       "      <td>-0.666667</td>\n",
       "      <td>0.659</td>\n",
       "      <td>0.341</td>\n",
       "      <td>0.000</td>\n",
       "      <td>-0.7003</td>\n",
       "      <td>[[0.0, 0.0, 0.0, 0.0, 0.0, 0.0, 0.0, 0.0, 0.0,...</td>\n",
       "      <td>[[0.0, 0.0, 0.0, 0.0, 0.0, 0.0, 0.0, 0.0, 0.0,...</td>\n",
       "    </tr>\n",
       "    <tr>\n",
       "      <th>1</th>\n",
       "      <td>2</td>\n",
       "      <td>None</td>\n",
       "      <td>NaN</td>\n",
       "      <td>Heard about #earthquake is different cities, s...</td>\n",
       "      <td>[heard, about, #, earthquake, is, different, c...</td>\n",
       "      <td>-1.00</td>\n",
       "      <td>-0.913043</td>\n",
       "      <td>-0.466667</td>\n",
       "      <td>0.000</td>\n",
       "      <td>0.734</td>\n",
       "      <td>0.266</td>\n",
       "      <td>0.4404</td>\n",
       "      <td>[[0.0, 0.0, 0.0, 0.0, 0.0, 0.0, 0.0, 0.0, 0.0,...</td>\n",
       "      <td>[[0.0, 0.0, 0.0, 0.0, 0.0, 0.0, 0.0, 0.0, 0.0,...</td>\n",
       "    </tr>\n",
       "    <tr>\n",
       "      <th>2</th>\n",
       "      <td>3</td>\n",
       "      <td>None</td>\n",
       "      <td>NaN</td>\n",
       "      <td>there is a forest fire at spot pond, geese are...</td>\n",
       "      <td>[there, is, a, forest, fire, at, spot, pond, ,...</td>\n",
       "      <td>-0.92</td>\n",
       "      <td>-0.913043</td>\n",
       "      <td>0.200000</td>\n",
       "      <td>0.251</td>\n",
       "      <td>0.749</td>\n",
       "      <td>0.000</td>\n",
       "      <td>-0.6159</td>\n",
       "      <td>[[0.0, 0.0, 0.0, 0.0, 0.0, 0.0, 0.0, 0.0, 0.0,...</td>\n",
       "      <td>[[0.0, 0.0, 0.0, 0.0, 0.0, 0.0, 0.0, 0.0, 0.0,...</td>\n",
       "    </tr>\n",
       "    <tr>\n",
       "      <th>3</th>\n",
       "      <td>9</td>\n",
       "      <td>None</td>\n",
       "      <td>NaN</td>\n",
       "      <td>Apocalypse lighting. #Spokane #wildfires</td>\n",
       "      <td>[apocalypse, lighting, ., #, spokane, #, wildf...</td>\n",
       "      <td>-1.00</td>\n",
       "      <td>-0.826087</td>\n",
       "      <td>-0.800000</td>\n",
       "      <td>0.000</td>\n",
       "      <td>1.000</td>\n",
       "      <td>0.000</td>\n",
       "      <td>0.0000</td>\n",
       "      <td>[[0.0, 0.0, 0.0, 0.0, 0.0, 0.0, 0.0, 0.0, 0.0,...</td>\n",
       "      <td>[[0.0, 0.0, 0.0, 0.0, 0.0, 0.0, 0.0, 0.0, 0.0,...</td>\n",
       "    </tr>\n",
       "    <tr>\n",
       "      <th>4</th>\n",
       "      <td>11</td>\n",
       "      <td>None</td>\n",
       "      <td>NaN</td>\n",
       "      <td>Typhoon Soudelor kills 28 in China and Taiwan</td>\n",
       "      <td>[typhoon, soudelor, kills, &lt;number&gt;, in, china...</td>\n",
       "      <td>-1.00</td>\n",
       "      <td>-0.652174</td>\n",
       "      <td>-0.533333</td>\n",
       "      <td>0.333</td>\n",
       "      <td>0.667</td>\n",
       "      <td>0.000</td>\n",
       "      <td>-0.5423</td>\n",
       "      <td>[[0.0, 0.0, 0.0, 0.0, 0.0, 0.0, 0.0, 0.0, 0.0,...</td>\n",
       "      <td>[[0.0, 0.0, 0.0, 0.0, 0.0, 0.0, 0.0, 0.0, 0.0,...</td>\n",
       "    </tr>\n",
       "  </tbody>\n",
       "</table>\n",
       "</div>"
      ],
      "text/plain": [
       "   id keyword location                                               text  \\\n",
       "0   0    None      NaN                 Just happened a terrible car crash   \n",
       "1   2    None      NaN  Heard about #earthquake is different cities, s...   \n",
       "2   3    None      NaN  there is a forest fire at spot pond, geese are...   \n",
       "3   9    None      NaN           Apocalypse lighting. #Spokane #wildfires   \n",
       "4  11    None      NaN      Typhoon Soudelor kills 28 in China and Taiwan   \n",
       "\n",
       "                                       tok_norm_text  num_all_caps  num_caps  \\\n",
       "0          [just, happened, a, terrible, car, crash]         -1.00 -0.913043   \n",
       "1  [heard, about, #, earthquake, is, different, c...         -1.00 -0.913043   \n",
       "2  [there, is, a, forest, fire, at, spot, pond, ,...         -0.92 -0.913043   \n",
       "3  [apocalypse, lighting, ., #, spokane, #, wildf...         -1.00 -0.826087   \n",
       "4  [typhoon, soudelor, kills, <number>, in, china...         -1.00 -0.652174   \n",
       "\n",
       "   num_words  sent_neg  sent_neu  sent_pos  sent_compound  \\\n",
       "0  -0.666667     0.659     0.341     0.000        -0.7003   \n",
       "1  -0.466667     0.000     0.734     0.266         0.4404   \n",
       "2   0.200000     0.251     0.749     0.000        -0.6159   \n",
       "3  -0.800000     0.000     1.000     0.000         0.0000   \n",
       "4  -0.533333     0.333     0.667     0.000        -0.5423   \n",
       "\n",
       "                                      text_embedding  \\\n",
       "0  [[0.0, 0.0, 0.0, 0.0, 0.0, 0.0, 0.0, 0.0, 0.0,...   \n",
       "1  [[0.0, 0.0, 0.0, 0.0, 0.0, 0.0, 0.0, 0.0, 0.0,...   \n",
       "2  [[0.0, 0.0, 0.0, 0.0, 0.0, 0.0, 0.0, 0.0, 0.0,...   \n",
       "3  [[0.0, 0.0, 0.0, 0.0, 0.0, 0.0, 0.0, 0.0, 0.0,...   \n",
       "4  [[0.0, 0.0, 0.0, 0.0, 0.0, 0.0, 0.0, 0.0, 0.0,...   \n",
       "\n",
       "                                   keyword_embedding  \n",
       "0  [[0.0, 0.0, 0.0, 0.0, 0.0, 0.0, 0.0, 0.0, 0.0,...  \n",
       "1  [[0.0, 0.0, 0.0, 0.0, 0.0, 0.0, 0.0, 0.0, 0.0,...  \n",
       "2  [[0.0, 0.0, 0.0, 0.0, 0.0, 0.0, 0.0, 0.0, 0.0,...  \n",
       "3  [[0.0, 0.0, 0.0, 0.0, 0.0, 0.0, 0.0, 0.0, 0.0,...  \n",
       "4  [[0.0, 0.0, 0.0, 0.0, 0.0, 0.0, 0.0, 0.0, 0.0,...  "
      ]
     },
     "execution_count": 62,
     "metadata": {},
     "output_type": "execute_result"
    }
   ],
   "source": [
    "test_df.head()"
   ]
  },
  {
   "cell_type": "code",
   "execution_count": 63,
   "metadata": {},
   "outputs": [],
   "source": [
    "# Create one embedding representation of all chosen features\n",
    "test_embedding_matrix = concatenate_embeddings(\n",
    "    df=test_df, embedding_model=model_glove_twitter, seq_len=sequence_max_length,\n",
    "    sequence_embedding_col='text_embedding',\n",
    "    static_embedding_cols=['keyword_embedding'],\n",
    "    static_singles_cols=['num_all_caps', 'num_caps', 'num_words', 'sent_neg', 'sent_neu', 'sent_pos', 'sent_compound'])"
   ]
  },
  {
   "cell_type": "code",
   "execution_count": 64,
   "metadata": {},
   "outputs": [],
   "source": [
    "X_test = torch.from_numpy(test_embedding_matrix).float().to(device)"
   ]
  },
  {
   "cell_type": "code",
   "execution_count": 65,
   "metadata": {},
   "outputs": [],
   "source": [
    "# predict\n",
    "preds = bilstm.predict(X_test)"
   ]
  },
  {
   "cell_type": "code",
   "execution_count": 66,
   "metadata": {},
   "outputs": [],
   "source": [
    "# put predictions and id's in DataFrame\n",
    "final_preds = preds.cpu().numpy().reshape(-1,1)\n",
    "ids = test_df['id'].values.reshape(-1,1)\n",
    "data = np.hstack((ids, final_preds))\n",
    "\n",
    "submission_df = pd.DataFrame(data=data,columns = ['id', 'target'])"
   ]
  },
  {
   "cell_type": "code",
   "execution_count": 67,
   "metadata": {},
   "outputs": [],
   "source": [
    "submission_df.to_csv('submission.csv', index=False)"
   ]
  }
 ],
 "metadata": {
  "kernelspec": {
   "display_name": "Python 3",
   "language": "python",
   "name": "python3"
  },
  "language_info": {
   "codemirror_mode": {
    "name": "ipython",
    "version": 3
   },
   "file_extension": ".py",
   "mimetype": "text/x-python",
   "name": "python",
   "nbconvert_exporter": "python",
   "pygments_lexer": "ipython3",
   "version": "3.6.3"
  }
 },
 "nbformat": 4,
 "nbformat_minor": 2
}
